{
  "nbformat": 4,
  "nbformat_minor": 0,
  "metadata": {
    "colab": {
      "name": "week 4.ipynb",
      "provenance": [],
      "collapsed_sections": [],
      "include_colab_link": true
    },
    "kernelspec": {
      "name": "python3",
      "display_name": "Python 3"
    }
  },
  "cells": [
    {
      "cell_type": "markdown",
      "metadata": {
        "id": "view-in-github",
        "colab_type": "text"
      },
      "source": [
        "<a href=\"https://colab.research.google.com/github/Sharaf685/OOP-lab-task/blob/master/week_4.ipynb\" target=\"_parent\"><img src=\"https://colab.research.google.com/assets/colab-badge.svg\" alt=\"Open In Colab\"/></a>"
      ]
    },
    {
      "cell_type": "code",
      "metadata": {
        "id": "VmOMKjOwgJ8g"
      },
      "source": [
        ""
      ],
      "execution_count": null,
      "outputs": []
    },
    {
      "cell_type": "code",
      "metadata": {
        "id": "dv5fgiINPQhy",
        "outputId": "5b875c2c-176d-43b8-c939-00a84fe791d6",
        "colab": {
          "base_uri": "https://localhost:8080/",
          "height": 34
        }
      },
      "source": [
        "#creating list\n",
        "\n",
        "lst0=[12,53,21,72,22.213,53.273,\"khabib\",[20,40,33]]\n",
        "print(lst0)\n",
        "lst1=[]\n",
        "\n"
      ],
      "execution_count": 4,
      "outputs": [
        {
          "output_type": "stream",
          "text": [
            "[12, 53, 21, 72, 22.213, 53.273, 'khabib', [20, 40, 33]]\n"
          ],
          "name": "stdout"
        }
      ]
    },
    {
      "cell_type": "code",
      "metadata": {
        "id": "OzhLaNmjPibF",
        "outputId": "ced97cfd-f98d-4074-af19-d5a4929b92ba",
        "colab": {
          "base_uri": "https://localhost:8080/",
          "height": 34
        }
      },
      "source": [
        "#iterating list\n",
        "\n",
        "lst0=[12,53,21,72,22.213,\"nurmagomedov\",[20,40,33]]\n",
        "for i in lst0:\n",
        "    print(i,end=' ')\n",
        "print('')"
      ],
      "execution_count": 6,
      "outputs": [
        {
          "output_type": "stream",
          "text": [
            "12 53 21 72 22.213 nurmagomedov [20, 40, 33] \n"
          ],
          "name": "stdout"
        }
      ]
    },
    {
      "cell_type": "code",
      "metadata": {
        "id": "KNxT03XVQl1s",
        "outputId": "e879ebbd-eb56-4bb6-eca6-0c9de250f66f",
        "colab": {
          "base_uri": "https://localhost:8080/",
          "height": 84
        }
      },
      "source": [
        "#iterating list\n",
        "\n",
        "lst0=[12, 53, 21, 72, 22.213, 453.273,\"Sharaf\",[40, 20, 33]]\n",
        "print(lst0[2])\n",
        "print(lst0[6])\n",
        "print(lst0[-2])\n",
        "print(lst0[-1])"
      ],
      "execution_count": 7,
      "outputs": [
        {
          "output_type": "stream",
          "text": [
            "21\n",
            "Sharaf\n",
            "Sharaf\n",
            "[40, 20, 33]\n"
          ],
          "name": "stdout"
        }
      ]
    },
    {
      "cell_type": "code",
      "metadata": {
        "id": "Efc_Q8FCU1RZ",
        "outputId": "a80ecbd2-13f8-4929-f1ea-d574e7b90d68",
        "colab": {
          "base_uri": "https://localhost:8080/",
          "height": 84
        }
      },
      "source": [
        "#lsit slicing\n",
        "\n",
        "lst0=[12, 53, 21, 72, 22.213, 453.273,\"shahriar\",[32,62,13]]\n",
        "\n",
        "print(lst0[2:7])\n",
        "print(lst0[2:])\n",
        "print(lst0[:5])\n",
        "print(lst0[:])"
      ],
      "execution_count": 8,
      "outputs": [
        {
          "output_type": "stream",
          "text": [
            "[21, 72, 22.213, 453.273, 'shahriar']\n",
            "[21, 72, 22.213, 453.273, 'shahriar', [32, 62, 13]]\n",
            "[12, 53, 21, 72, 22.213]\n",
            "[12, 53, 21, 72, 22.213, 453.273, 'shahriar', [32, 62, 13]]\n"
          ],
          "name": "stdout"
        }
      ]
    },
    {
      "cell_type": "code",
      "metadata": {
        "id": "jZEi7IZ0YRtn",
        "outputId": "9ceedb32-7517-47a9-b897-7df86d5c2a44",
        "colab": {
          "base_uri": "https://localhost:8080/",
          "height": 134
        }
      },
      "source": [
        "#List operations\n",
        "\n",
        "lst0=[21, 772, 22.213, 453.273,\"Crimson\",[4, 32, 33]]\n",
        "\n",
        "print(len(lst0))                #len( ) gives the length of the list\n",
        "\n",
        "lst0.append([12,2,12,2])        #append( ) inserts an element to the end of the list\n",
        "print(lst0)\n",
        "\n",
        "lst0.insert(2,\"pandas\")         #insert( ) insertes an element on a given index\n",
        "print(lst0)\n",
        "\n",
        "print(lst0.index(\"Crimson\"))     #index( ) returns index of first occurence of an element\n",
        "\n",
        "print(lst0.count('Crimson'))     #count( ) reuturns the number of occurence of an element\n",
        "\n",
        "print(lst0.reverse())           #reverse( ) makes a reverse list\n",
        "\n",
        "lst1=lst0.copy()                #copy( ) makes a copy of list\n",
        "print(lst1)\n",
        "\n",
        "lst0.clear()                    #clear( ) makes the list empty"
      ],
      "execution_count": 9,
      "outputs": [
        {
          "output_type": "stream",
          "text": [
            "6\n",
            "[21, 772, 22.213, 453.273, 'Crimson', [4, 32, 33], [12, 2, 12, 2]]\n",
            "[21, 772, 'pandas', 22.213, 453.273, 'Crimson', [4, 32, 33], [12, 2, 12, 2]]\n",
            "5\n",
            "1\n",
            "None\n",
            "[[12, 2, 12, 2], [4, 32, 33], 'Crimson', 453.273, 22.213, 'pandas', 772, 21]\n"
          ],
          "name": "stdout"
        }
      ]
    },
    {
      "cell_type": "code",
      "metadata": {
        "id": "VcznBtQPWFD1",
        "outputId": "e146d67a-6744-4533-d79e-976e739e5414",
        "colab": {
          "base_uri": "https://localhost:8080/",
          "height": 67
        }
      },
      "source": [
        "#list sorting\n",
        "\n",
        "lst2=[33,16,12,24,480,50,100,200,400,500,1000,2000]\n",
        "\n",
        "lst3=sorted(lst2)\n",
        "print(lst3)\n",
        "print(lst2)\n",
        "lst2.sort()\n",
        "print(lst2)"
      ],
      "execution_count": 10,
      "outputs": [
        {
          "output_type": "stream",
          "text": [
            "[12, 16, 24, 33, 50, 100, 200, 400, 480, 500, 1000, 2000]\n",
            "[33, 16, 12, 24, 480, 50, 100, 200, 400, 500, 1000, 2000]\n",
            "[12, 16, 24, 33, 50, 100, 200, 400, 480, 500, 1000, 2000]\n"
          ],
          "name": "stdout"
        }
      ]
    },
    {
      "cell_type": "code",
      "metadata": {
        "id": "CsnsqMPsWn6m",
        "outputId": "7d3ba396-a9c3-42e1-ee6e-a9276b557b40",
        "colab": {
          "base_uri": "https://localhost:8080/",
          "height": 34
        }
      },
      "source": [
        "#creating tuple\n",
        "\n",
        "tp0=(42, 53, 21, 772, 22.213, 453.273,\"sharlock\",[2,32,3])\n",
        "print(tp0)\n",
        "tp1=()\n",
        "\n"
      ],
      "execution_count": 12,
      "outputs": [
        {
          "output_type": "stream",
          "text": [
            "(42, 53, 21, 772, 22.213, 453.273, 'sharlock', [2, 32, 3])\n"
          ],
          "name": "stdout"
        }
      ]
    },
    {
      "cell_type": "code",
      "metadata": {
        "id": "zqLQKHBrXNxY",
        "outputId": "54fb1d58-22be-416d-8a1a-76fd3e9bdd9f",
        "colab": {
          "base_uri": "https://localhost:8080/",
          "height": 34
        }
      },
      "source": [
        "#iterating tuple\n",
        "\n",
        "tp0=(12, 53, 21, 772, 22.213, 453.273,\"alucard\",[72,34,166])\n",
        "for i in tp0:\n",
        "    print(i,end=' ')\n",
        "print('')"
      ],
      "execution_count": 14,
      "outputs": [
        {
          "output_type": "stream",
          "text": [
            "12 53 21 772 22.213 453.273 alucard [72, 34, 166] \n"
          ],
          "name": "stdout"
        }
      ]
    },
    {
      "cell_type": "code",
      "metadata": {
        "id": "KZUEXf9KXyFq",
        "outputId": "d925a535-1028-437e-eb7d-8a4c465023f2",
        "colab": {
          "base_uri": "https://localhost:8080/",
          "height": 84
        }
      },
      "source": [
        "#iterating tuple\n",
        "\n",
        "tp0=(12, 53, 21, 772, 22.213, 453.273,\"python\",[72,34,166])\n",
        "print(tp0[2])\n",
        "print(tp0[6])\n",
        "print(tp0[-2])\n",
        "print(tp0[-5])"
      ],
      "execution_count": 15,
      "outputs": [
        {
          "output_type": "stream",
          "text": [
            "21\n",
            "python\n",
            "python\n",
            "772\n"
          ],
          "name": "stdout"
        }
      ]
    },
    {
      "cell_type": "code",
      "metadata": {
        "id": "J0R9_6tYYU6j",
        "outputId": "cca83330-59d6-458b-cd48-327e21978c4a",
        "colab": {
          "base_uri": "https://localhost:8080/",
          "height": 34
        }
      },
      "source": [
        "#inserting into tuple\n",
        "\n",
        "tp0=(12, 53, 21, 772, 22.213, 453.273,\"Alucard\",[7,4,16])\n",
        "tp0+=(\"pandas\",232,3,232,3)\n",
        "print(tp0)"
      ],
      "execution_count": 16,
      "outputs": [
        {
          "output_type": "stream",
          "text": [
            "(12, 53, 21, 772, 22.213, 453.273, 'Alucard', [7, 4, 16], 'pandas', 232, 3, 232, 3)\n"
          ],
          "name": "stdout"
        }
      ]
    },
    {
      "cell_type": "code",
      "metadata": {
        "id": "ZWp59vSEZfJJ",
        "outputId": "2e8be7bd-e7b9-4150-b1e2-c6453b4365c8",
        "colab": {
          "base_uri": "https://localhost:8080/",
          "height": 84
        }
      },
      "source": [
        "#unpacking sequences\n",
        "\n",
        "lst=[12, 53, 21, 772]\n",
        "a,b,c,d=lst\n",
        "print(a)\n",
        "print(b)\n",
        "print(c)\n",
        "print(d)"
      ],
      "execution_count": 19,
      "outputs": [
        {
          "output_type": "stream",
          "text": [
            "12\n",
            "53\n",
            "21\n",
            "772\n"
          ],
          "name": "stdout"
        }
      ]
    },
    {
      "cell_type": "code",
      "metadata": {
        "id": "o-2Xal8TZ1mo",
        "outputId": "d30bc485-fddb-491e-f1b2-1cb4a3f02cab",
        "colab": {
          "base_uri": "https://localhost:8080/",
          "height": 84
        }
      },
      "source": [
        "#unpacking sequences\n",
        "\n",
        "tp=(21, 772, 22.213, 453.273)\n",
        "a,b,c,d=tp\n",
        "print(a)\n",
        "print(b)\n",
        "print(c)\n",
        "print(d)"
      ],
      "execution_count": 18,
      "outputs": [
        {
          "output_type": "stream",
          "text": [
            "21\n",
            "772\n",
            "22.213\n",
            "453.273\n"
          ],
          "name": "stdout"
        }
      ]
    }
  ]
}